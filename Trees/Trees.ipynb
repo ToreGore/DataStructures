{
 "cells": [
  {
   "cell_type": "code",
   "execution_count": 88,
   "id": "203fbc8d",
   "metadata": {},
   "outputs": [],
   "source": [
    "class BST:\n",
    "    def __init__(self, value, left=None, right=None):\n",
    "        self.value = value\n",
    "        self.left = left\n",
    "        self.right = right\n",
    "    \n",
    "    def search(self, val):\n",
    "        if self.value == val:\n",
    "            return self\n",
    "        elif val < self.value:\n",
    "            return self.left.search(val)\n",
    "        elif val > self.value:\n",
    "            return self.right.search(val)\n",
    "        elif self.left is None and self.right is None:\n",
    "            return None\n",
    "        \n",
    "    def insert(self, val):\n",
    "        if val < self.value:\n",
    "            if self.left is None:\n",
    "                self.left = BST(val)\n",
    "            else:\n",
    "                self.left.insert(val)\n",
    "        elif val > self.value:\n",
    "            if self.right is None:\n",
    "                self.right = BST(val)\n",
    "            else:\n",
    "                self.right.insert(val)\n",
    "        return self\n",
    "\n",
    "    def delete(self, val):\n",
    "        if val < self.value:\n",
    "            if self.left is not None:\n",
    "                self.left = self.left.delete(val)\n",
    "        elif val > self.value:\n",
    "            if self.right is not None:\n",
    "                self.right = self.right.delete(val)\n",
    "        else:\n",
    "            #A node is found\n",
    "            # Case 1: No children\n",
    "            if self.left is None and self.right is None:\n",
    "                return None\n",
    "            # Case 2: One child\n",
    "            elif self.left is None:\n",
    "                return self.right\n",
    "            elif self.right is None:\n",
    "                return self.left\n",
    "            # Case 3: Two Children\n",
    "            else:\n",
    "                # Find the inorder successor (smallest in right subtree)\n",
    "                successor = self.right\n",
    "                while successor.left is not None:\n",
    "                    successor = successor.left\n",
    "                self.value = successor.value\n",
    "                self.right = self.right.delete(successor.value)\n",
    "        return self\n",
    "\n",
    "    def preorder(self):\n",
    "        result = [str(self.value)]\n",
    "        if self.left is not None:\n",
    "            result.append(self.left.preorder())\n",
    "        if self.right is not None:\n",
    "            result.append(self.right.preorder())\n",
    "        return ', '.join(result)\n",
    "        #if self.left is None and self.right is None:\n",
    "        #    return str(self.value)\n",
    "        #else:\n",
    "        #    return str(self.value) + ', ' + self.left.preorder() + ', ' + self.right.preorder()\n",
    "    \n",
    "    def inorder(self):\n",
    "        result = []\n",
    "        if self.left is not None:\n",
    "            result.append(self.left.inorder())\n",
    "        result.append(str(self.value))\n",
    "        if self.right is not None:\n",
    "            result.append(self.right.inorder())\n",
    "        return ', '.join(result)\n",
    "        #if self.left is None and self.right is None:\n",
    "        #    return str(self.value)\n",
    "        #else:\n",
    "        #    return self.left.inorder() + ', ' + str(self.value) + ', ' + self.right.inorder()\n",
    "\n",
    "    def postorder(self):\n",
    "        result = []\n",
    "        if self.left is not None:\n",
    "            result.append(self.left.postorder())\n",
    "        if self.right is not None:\n",
    "            result.append(self.right.postorder())\n",
    "        result.append(str(self.value))\n",
    "        return ', '.join(result)\n",
    "        #if self.left is None and self.right is None:\n",
    "        #    return str(self.value)\n",
    "        #else:\n",
    "        #    return self.left.postorder() + ', ' + self.right.postorder() + ', ' + str(self.value) \n"
   ]
  },
  {
   "cell_type": "code",
   "execution_count": 89,
   "id": "0bdb6c29",
   "metadata": {},
   "outputs": [],
   "source": [
    "bin_tree = BST(10, BST(2, BST(1), BST(3)), BST(60, BST(50), BST(70)))"
   ]
  },
  {
   "cell_type": "code",
   "execution_count": 90,
   "id": "d1d738fa",
   "metadata": {},
   "outputs": [
    {
     "data": {
      "text/plain": [
       "'1, 3, 2, 50, 70, 60, 10'"
      ]
     },
     "execution_count": 90,
     "metadata": {},
     "output_type": "execute_result"
    }
   ],
   "source": [
    "bin_tree.postorder()"
   ]
  },
  {
   "cell_type": "code",
   "execution_count": 91,
   "id": "71c8e475",
   "metadata": {},
   "outputs": [],
   "source": [
    "bin_tree = bin_tree.insert(65)"
   ]
  },
  {
   "cell_type": "code",
   "execution_count": 92,
   "id": "4612a6d2",
   "metadata": {},
   "outputs": [
    {
     "data": {
      "text/plain": [
       "'1, 2, 3, 10, 50, 60, 65, 70'"
      ]
     },
     "execution_count": 92,
     "metadata": {},
     "output_type": "execute_result"
    }
   ],
   "source": [
    "bin_tree.inorder()"
   ]
  },
  {
   "cell_type": "code",
   "execution_count": 93,
   "id": "f2d51c5e",
   "metadata": {},
   "outputs": [
    {
     "data": {
      "text/plain": [
       "'10, 2, 1, 3, 60, 50, 70, 65'"
      ]
     },
     "execution_count": 93,
     "metadata": {},
     "output_type": "execute_result"
    }
   ],
   "source": [
    "bin_tree.preorder()"
   ]
  },
  {
   "cell_type": "code",
   "execution_count": 94,
   "id": "8b9c9c51",
   "metadata": {},
   "outputs": [],
   "source": [
    "bin_tree = bin_tree.delete(65)"
   ]
  },
  {
   "cell_type": "code",
   "execution_count": 95,
   "id": "46f4743b",
   "metadata": {},
   "outputs": [
    {
     "data": {
      "text/plain": [
       "'10, 2, 1, 3, 60, 50, 70'"
      ]
     },
     "execution_count": 95,
     "metadata": {},
     "output_type": "execute_result"
    }
   ],
   "source": [
    "bin_tree.preorder()"
   ]
  },
  {
   "cell_type": "code",
   "execution_count": null,
   "id": "9c1504ed",
   "metadata": {},
   "outputs": [],
   "source": []
  }
 ],
 "metadata": {
  "kernelspec": {
   "display_name": "venv",
   "language": "python",
   "name": "python3"
  },
  "language_info": {
   "codemirror_mode": {
    "name": "ipython",
    "version": 3
   },
   "file_extension": ".py",
   "mimetype": "text/x-python",
   "name": "python",
   "nbconvert_exporter": "python",
   "pygments_lexer": "ipython3",
   "version": "3.12.10"
  }
 },
 "nbformat": 4,
 "nbformat_minor": 5
}
