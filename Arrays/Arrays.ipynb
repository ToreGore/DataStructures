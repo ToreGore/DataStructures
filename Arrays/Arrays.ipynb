{
 "cells": [
  {
   "cell_type": "code",
   "execution_count": null,
   "metadata": {},
   "outputs": [],
   "source": []
  },
  {
   "cell_type": "code",
   "execution_count": 4,
   "metadata": {},
   "outputs": [],
   "source": [
    "class PrefixSum:\n",
    "    def __init__(self, array):\n",
    "        self.array = array\n",
    "        self.prefix_sum = []\n",
    "        supp_num = 0\n",
    "        for i in range(len(array)):\n",
    "            supp_num += array[i]\n",
    "            self.prefix_sum.append(supp_num)\n",
    "    def calculate_subsum(self, start, end):\n",
    "        if start == 0:\n",
    "            return self.prefix_sum[end]\n",
    "        elif start > 0:\n",
    "            return self.prefix_sum[end] - self.prefix_sum[start - 1]\n",
    "    def __repr__(self) -> str:\n",
    "        return f\"Prefix sum of {self.array}: {self.prefix_sum}\"\n",
    "\n",
    "        "
   ]
  },
  {
   "cell_type": "code",
   "execution_count": 37,
   "metadata": {},
   "outputs": [],
   "source": [
    "class DiffArray:\n",
    "    def __init__(self, array):\n",
    "        self.diff_array = []\n",
    "        for i in range(len(array)):\n",
    "            if i == 0:\n",
    "                self.diff_array.append(array[i])\n",
    "            else:\n",
    "                self.diff_array.append(array[i] - array[i - 1])\n",
    "    def reconstruct_original(self):\n",
    "        array = []\n",
    "        current = 0\n",
    "        for i in range(len(self.diff_array)):\n",
    "            current += self.diff_array[i]\n",
    "            array.append(current)\n",
    "        return array\n",
    "    def update_range(self, start, end, value):\n",
    "        self.diff_array[start] += value\n",
    "        self.diff_array[end + 1] -= 4\n",
    "    def __repr__(self):\n",
    "        return f\"DiffArray: {self.diff_array}\"\n"
   ]
  },
  {
   "cell_type": "code",
   "execution_count": 38,
   "metadata": {},
   "outputs": [],
   "source": [
    "ps = PrefixSum([1,2,3,4,5])\n",
    "da = DiffArray([2,5,8,3,9])"
   ]
  },
  {
   "cell_type": "code",
   "execution_count": 39,
   "metadata": {},
   "outputs": [
    {
     "data": {
      "text/plain": [
       "12"
      ]
     },
     "execution_count": 39,
     "metadata": {},
     "output_type": "execute_result"
    }
   ],
   "source": [
    "ps.calculate_subsum(2, 4)"
   ]
  },
  {
   "cell_type": "code",
   "execution_count": 40,
   "metadata": {},
   "outputs": [
    {
     "data": {
      "text/plain": [
       "[2, 5, 8, 3, 9]"
      ]
     },
     "execution_count": 40,
     "metadata": {},
     "output_type": "execute_result"
    }
   ],
   "source": [
    "da.reconstruct_original()"
   ]
  },
  {
   "cell_type": "code",
   "execution_count": 41,
   "metadata": {},
   "outputs": [],
   "source": [
    "da.update_range(1, 3, 4)"
   ]
  },
  {
   "cell_type": "code",
   "execution_count": 44,
   "metadata": {},
   "outputs": [
    {
     "data": {
      "text/plain": [
       "(DiffArray: [2, 7, 3, -5, 2], [2, 9, 12, 7, 9])"
      ]
     },
     "execution_count": 44,
     "metadata": {},
     "output_type": "execute_result"
    }
   ],
   "source": [
    "da, da.reconstruct_original()"
   ]
  },
  {
   "cell_type": "code",
   "execution_count": null,
   "metadata": {},
   "outputs": [],
   "source": []
  }
 ],
 "metadata": {
  "kernelspec": {
   "display_name": "base",
   "language": "python",
   "name": "python3"
  },
  "language_info": {
   "codemirror_mode": {
    "name": "ipython",
    "version": 3
   },
   "file_extension": ".py",
   "mimetype": "text/x-python",
   "name": "python",
   "nbconvert_exporter": "python",
   "pygments_lexer": "ipython3",
   "version": "3.9.7"
  },
  "orig_nbformat": 4
 },
 "nbformat": 4,
 "nbformat_minor": 2
}
